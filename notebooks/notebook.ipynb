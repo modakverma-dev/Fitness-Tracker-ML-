{
 "cells": [
  {
   "cell_type": "code",
   "execution_count": 7,
   "metadata": {},
   "outputs": [
    {
     "name": "stdout",
     "output_type": "stream",
     "text": [
      "15\n"
     ]
    }
   ],
   "source": [
    "# import pandas as pd\n",
    "\n",
    "# data ={\n",
    "#     \"Name\":['Alice','Bob','Charlie','David'],\n",
    "#     \"Age\":[24,27,22,32],\n",
    "#     \"City\":['New York','Los Angeles','Chicago','Houston'],\n",
    "# }\n",
    "# df = pd.DataFrame(data)\n",
    "\n",
    "def add(a,b):\n",
    "    return a+b\n",
    "\n",
    "print(add(5,10))"
   ]
  }
 ],
 "metadata": {
  "kernelspec": {
   "display_name": ".venv",
   "language": "python",
   "name": "python3"
  },
  "language_info": {
   "codemirror_mode": {
    "name": "ipython",
    "version": 3
   },
   "file_extension": ".py",
   "mimetype": "text/x-python",
   "name": "python",
   "nbconvert_exporter": "python",
   "pygments_lexer": "ipython3",
   "version": "3.12.0"
  }
 },
 "nbformat": 4,
 "nbformat_minor": 2
}
